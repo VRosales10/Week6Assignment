{
 "cells": [
  {
   "cell_type": "markdown",
   "id": "fff249a1-5856-453c-99b5-4565b57958f8",
   "metadata": {},
   "source": [
    "# Data Science Tools and Ecosystem"
   ]
  },
  {
   "cell_type": "markdown",
   "id": "19104393-f4a1-4694-ad44-6c610e115bfe",
   "metadata": {},
   "source": [
    "Data Science Tools and Ecosystems are summarized in this notebook"
   ]
  },
  {
   "cell_type": "markdown",
   "id": "a6183b68-fa23-4e36-b2aa-4bf3a8789c83",
   "metadata": {},
   "source": [
    "Some of the popular languages used by Data Scientists are:\n",
    "1. Python\n",
    "2. R\n",
    "3. SQL"
   ]
  },
  {
   "cell_type": "markdown",
   "id": "21d5e8db-cad3-4e23-a6d2-7c947240497e",
   "metadata": {},
   "source": [
    "**Objectives:**\n",
    "- Identify the benefits of Python\n",
    "- Review languages such as Java and Julia\n",
    "- Learn how to use notebooks in JupyterLab"
   ]
  },
  {
   "cell_type": "markdown",
   "id": "dbc01aa0-f449-4bba-843c-1e7e11baa0b7",
   "metadata": {},
   "source": [
    "Common libraries used by Data Scientists are:\n",
    "1. NumPy\n",
    "2. Pandas\n",
    "3. PyTorch"
   ]
  },
  {
   "cell_type": "markdown",
   "id": "c4ce9c93-7bc9-4c35-8654-0fb42e91d713",
   "metadata": {},
   "source": [
    "| Data Science Tools |\n",
    "|:------------------:|\n",
    "|      RStudio       |\n",
    "|    Apache Spark    |\n",
    "|     TensorFlow     |"
   ]
  },
  {
   "cell_type": "markdown",
   "id": "397d8b14-e90a-4f55-b4b2-c7725eb082b5",
   "metadata": {
    "tags": []
   },
   "source": [
    "### Examples of evaluating arithmatic expressions in Python are below."
   ]
  },
  {
   "cell_type": "code",
   "execution_count": 2,
   "id": "a389a25d-4cdd-47ad-8aaf-01689df6f6e2",
   "metadata": {
    "tags": []
   },
   "outputs": [
    {
     "data": {
      "text/plain": [
       "17"
      ]
     },
     "execution_count": 2,
     "metadata": {},
     "output_type": "execute_result"
    }
   ],
   "source": [
    "###### This a simple arithmetic expression to mutiply then add integers.\n",
    "(3*4)+5"
   ]
  },
  {
   "cell_type": "code",
   "execution_count": 11,
   "id": "559afddd-3e05-4949-aa1d-00ff47030df4",
   "metadata": {
    "tags": []
   },
   "outputs": [
    {
     "data": {
      "text/plain": [
       "3"
      ]
     },
     "execution_count": 11,
     "metadata": {},
     "output_type": "execute_result"
    }
   ],
   "source": [
    "# This will convert 200 minutes to hours by dividing by 60\n",
    "\n",
    "200 // 60"
   ]
  },
  {
   "cell_type": "markdown",
   "id": "12946159-8787-470c-8caf-8f4bd4d47b41",
   "metadata": {},
   "source": [
    "## Author\n",
    "Victor Rosales"
   ]
  },
  {
   "cell_type": "code",
   "execution_count": null,
   "id": "74994d0b-dd7d-423b-ae43-2928ec1b4708",
   "metadata": {},
   "outputs": [],
   "source": []
  }
 ],
 "metadata": {
  "kernelspec": {
   "display_name": "Python",
   "language": "python",
   "name": "conda-env-python-py"
  },
  "language_info": {
   "codemirror_mode": {
    "name": "ipython",
    "version": 3
   },
   "file_extension": ".py",
   "mimetype": "text/x-python",
   "name": "python",
   "nbconvert_exporter": "python",
   "pygments_lexer": "ipython3",
   "version": "3.7.12"
  }
 },
 "nbformat": 4,
 "nbformat_minor": 5
}
